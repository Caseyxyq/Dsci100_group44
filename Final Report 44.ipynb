{
 "cells": [
  {
   "cell_type": "markdown",
   "id": "200ec3cf-2ff9-447c-90cb-b2e9f054db58",
   "metadata": {},
   "source": [
    "FINAL GROUP REPORT GROUP 44"
   ]
  },
  {
   "cell_type": "markdown",
   "id": "360a8b46-d0aa-43fc-90f6-0ca40deb062e",
   "metadata": {},
   "source": [
    "PROJECT PROPOSAL: Predicting the Seeding of a Tennis Winner Through Data Analysis"
   ]
  },
  {
   "cell_type": "markdown",
   "id": "0fa8d359-0be5-463a-b84c-b48c0daf2e16",
   "metadata": {},
   "source": [
    "PREDICTIVE QUESTION:\n",
    "\n",
    "Given a winner’s number of aces (w_ace) and number of serve points (w_pvpt), predict what seed number (1-3) this player is, in a clay surface tournament."
   ]
  },
  {
   "cell_type": "markdown",
   "id": "bf6f4efa-e94c-43b3-8967-71d1dcaad7b7",
   "metadata": {},
   "source": [
    "INTRODUCTION:\n",
    "\n",
    "We utilized the JeffSackmann (2023) ATP Tennis dataset, focusing on data from 2017 to 2019. Our project aims to predict the winner seed number (winner_seed, chr) in clay surface tournaments, using two factors: winner aces (w_ace, dbl) and serve points (w_svpt, dbl). In tennis, \"seed\" indicates a player's initial ranking, while an \"ace\" is an untouched serve, and \"serve points\" are serves until the receiver fails to return. We chose clay as it poses challenges for ace scoring. Despite the original dataset's 50 predictors, our analysis centers on w_ace and w_svpt. The source link for the data is: https://github.com/JeffSackmann/tennis_atp.\n",
    "\n",
    "\n",
    "In tennis, a player's serve, particularly aces (unreturned serves), significantly influences performance. Crucial stats for evaluation include aces per match, first-serve points won, and service games won percentage. Notably, top performers in these stats often hold season-ending rankings below 30. Wimbledon studies reveal seeded players excel in aces and first-serve points. Recognizing these links, we use aces (w_ace) and serve points (w_svpt) to predict the seed number (winner_seed) based on findings by David Whiteside and Machar Reid (2017).\n",
    "\t\t\t\t\t\n",
    "In the initial analysis, we'll filter for clay surfaces exclusively for more precise predictions, and the winner_seed to less than 3 for a simpler classification. We'll select the columns w_ace, w_svpt, winner_seed, and surface for further analysis, dropping any NA values in the remaining data.\n",
    "\n"
   ]
  },
  {
   "cell_type": "markdown",
   "id": "c9d7e79c-79f3-4eff-8b44-8d54e39b154c",
   "metadata": {},
   "source": [
    "PRELIMINARY DATA ANALYSIS:"
   ]
  },
  {
   "cell_type": "code",
   "execution_count": 4,
   "id": "061e9596-5506-4be9-89ab-37bf550e9fca",
   "metadata": {
    "tags": []
   },
   "outputs": [
    {
     "name": "stderr",
     "output_type": "stream",
     "text": [
      "Updating HTML index of packages in '.Library'\n",
      "\n",
      "Making 'packages.html' ...\n",
      " done\n",
      "\n",
      "Updating HTML index of packages in '.Library'\n",
      "\n",
      "Making 'packages.html' ...\n",
      " done\n",
      "\n"
     ]
    }
   ],
   "source": [
    "# Install the \"kknn\" package\n",
    "install.packages(\"kknn\")\n",
    "install.packages(\"tidymodels\")"
   ]
  },
  {
   "cell_type": "markdown",
   "id": "cdc9a9a4-5701-4084-ba47-8cf4d91adaac",
   "metadata": {},
   "source": [
    "1.‘install.packages’: a function in R used to install one or more packages from repositories. In this case, it is used to install the “kknn” package.\n",
    " \t\t\t\t\t\t\n",
    "2.‘ “kknn” ’: the name of the package that the install.packages function is instructed to install. Packages in R are collections of functions, data, and compiled code that extend the capabilities of R.\t\t\n"
   ]
  },
  {
   "cell_type": "code",
   "execution_count": 5,
   "id": "09c47d8d-79b0-4732-ace6-80a71e2a40dd",
   "metadata": {
    "tags": []
   },
   "outputs": [
    {
     "name": "stderr",
     "output_type": "stream",
     "text": [
      "Updating HTML index of packages in '.Library'\n",
      "\n",
      "Making 'packages.html' ...\n",
      " done\n",
      "\n"
     ]
    },
    {
     "ename": "ERROR",
     "evalue": "Error: package or namespace load failed for ‘tidyverse’ in loadNamespace(j <- i[[1L]], c(lib.loc, .libPaths()), versionCheck = vI[[j]]):\n namespace ‘vctrs’ 0.6.1 is already loaded, but >= 0.6.4 is required\n",
     "output_type": "error",
     "traceback": [
      "Error: package or namespace load failed for ‘tidyverse’ in loadNamespace(j <- i[[1L]], c(lib.loc, .libPaths()), versionCheck = vI[[j]]):\n namespace ‘vctrs’ 0.6.1 is already loaded, but >= 0.6.4 is required\nTraceback:\n",
      "1. library(tidyverse)",
      "2. tryCatch({\n .     attr(package, \"LibPath\") <- which.lib.loc\n .     ns <- loadNamespace(package, lib.loc)\n .     env <- attachNamespace(ns, pos = pos, deps, exclude, include.only)\n . }, error = function(e) {\n .     P <- if (!is.null(cc <- conditionCall(e))) \n .         paste(\" in\", deparse(cc)[1L])\n .     else \"\"\n .     msg <- gettextf(\"package or namespace load failed for %s%s:\\n %s\", \n .         sQuote(package), P, conditionMessage(e))\n .     if (logical.return && !quietly) \n .         message(paste(\"Error:\", msg), domain = NA)\n .     else stop(msg, call. = FALSE, domain = NA)\n . })",
      "3. tryCatchList(expr, classes, parentenv, handlers)",
      "4. tryCatchOne(expr, names, parentenv, handlers[[1L]])",
      "5. value[[3L]](cond)",
      "6. stop(msg, call. = FALSE, domain = NA)"
     ]
    }
   ],
   "source": [
    "# Load the packages\n",
    "install.packages(\"tidymodels\")\n",
    "library(tidyverse)\n",
    "library(repr)\n",
    "library(tidymodels)"
   ]
  },
  {
   "cell_type": "markdown",
   "id": "af69f7b0-dc88-4441-8a56-af2d618aa318",
   "metadata": {},
   "source": [
    "The package is installed and loaded with the 'library' function in the R session, enabling us to utilize the functions and features provided by the \"kknn\" package for k-nearest neighbors classification and regression in R. \t\t\t\n",
    "\n",
    "‘library(tidyverse)’: loads the ‘tidyverse’ package. The ‘tidyverse’ is a collection of R packages that work together to provide a consistent and coherent set of functions for data manipulation and visualization.\t\t\t\t\t\t\n",
    "\n",
    "\n",
    "‘library(repr)’: loads the ‘repr’ package. The ‘repr’ package is often used for setting the size of plots in R. \t\t\t\t\t\t\n",
    "\n",
    "\n",
    "‘library(tidymodels)’: loads the ‘tidymodels’ package. The ‘tidymodels’ framework provides a consistent and tidy interface for modeling and machine learning in R. \n"
   ]
  },
  {
   "cell_type": "code",
   "execution_count": 9,
   "id": "d8005c2b-b1f9-44ca-b28c-32d72b608953",
   "metadata": {
    "tags": []
   },
   "outputs": [
    {
     "name": "stderr",
     "output_type": "stream",
     "text": [
      "Updating HTML index of packages in '.Library'\n",
      "\n",
      "Making 'packages.html' ...\n",
      " done\n",
      "\n"
     ]
    },
    {
     "ename": "ERROR",
     "evalue": "Error in read_csv(url): could not find function \"read_csv\"\n",
     "output_type": "error",
     "traceback": [
      "Error in read_csv(url): could not find function \"read_csv\"\nTraceback:\n"
     ]
    }
   ],
   "source": [
    "# Read the data into R\n",
    "install.packages(\"tidymodels\")\n",
    "url <- \"https://raw.githubusercontent.com/Caseyxyq/Dsci100_group44/main/atp2017-2019.csv\"\n",
    "atp_data <- read_csv(url)\n",
    "# Show only the first three rows\n",
    "head(atp_data, n = 3)"
   ]
  },
  {
   "cell_type": "markdown",
   "id": "07f6c082-3604-47b3-97c3-2461db66f8c8",
   "metadata": {},
   "source": [
    "url <-\"https://raw.githubusercontent.com/Caseyxyq/Dsci100_group44/main/atp2017-2019.csv\": This line assigns a URL (Uniform Resource Locator) to the variable url. The URL points to a CSV file hosted on GitHub, specifically the “atp2017-2019.csv” file in the “Dsci100_group44” repository.\t\t\t\t\t\n",
    "\n",
    "\n",
    "The ‘read_csv’ function reads the CSV data from the specified URL into R. The resulting data is assigned to the variable ‘atp_data’. \t\t\t\t\t\t\t\n",
    "\n",
    "\n",
    "The ‘head’ function displays the first three rows of the ‘atp_data’ dataset. The ‘n’ parameter specifies the number of rows to show. Overall, this code reads a CSV file from a URL and loads it into an R data frame (atp_data). The head function is then used to display the first three rows of this dataset, in order to explore and get a quick overview of the dataset. \n"
   ]
  },
  {
   "cell_type": "code",
   "execution_count": null,
   "id": "d1fbdf6e-7f29-4ebb-80b8-52160d45954a",
   "metadata": {
    "tags": []
   },
   "outputs": [],
   "source": [
    "# Filter and select for focal data\n",
    "install.packages(\"tidymodels\")\n",
    "filtered_selected_columns <- atp_data |>\n",
    "    # Convert the character winner_seed variable to the numeric datatype so it can be filtered\n",
    "    mutate(winner_seed = as.numeric(winner_seed)) |>\n",
    "    # Filter for Clay type of surface and winner seed values less than equal to 3\n",
    "    filter(surface == \"Clay\", winner_seed <= 3.00) |> \n",
    "    # Select the two predictors (w_ace, w_svpt) and the response variable (winner_seed)\n",
    "    select(w_ace, w_svpt, winner_seed)\n",
    "# Show only the first three rows\n",
    "head(filtered_selected_columns, n = 3)"
   ]
  },
  {
   "cell_type": "markdown",
   "id": "5a5d41b4-ef67-4a0c-95b8-ab9fe74b92d1",
   "metadata": {},
   "source": [
    "The ‘atp_data’ dataset is piped to a series of data manipulation operations.\n",
    "\t\t\t\t\t\t\n",
    "Thereafter, ‘mutate’ function is used to create a new variable ‘winner_seed’ by converting the existing character variable ‘winner_seed’ to a numeric datatype.\n",
    "\t\t\t\t\t\t\n",
    "Then, the dataset is filtered to include only rows where the ‘surface’ is “Clay” and the ‘winner_seed’ is less than or equal to 3.\n",
    "\t\t\t\t\t\n",
    "Three columns are selected from the filtered dataset: ‘w_ace’, ‘w_svpt’, and ‘winner_seed’. These columns represent the predictors and response variables for the analysis.\n",
    "\t\t\t\t\t\n",
    "The first three rows of the resulting dataset (‘filtered_selected_columns’) are displayed. The ‘head’ function is used for this purpose.\n",
    "\t\t\t\t\t\n",
    "In summary, this code filters the original dataset to include rows with a specific surface type (\"Clay\") and conditions on the 'winner_seed' variable. It then selects three columns and displays the first three rows of the resulting dataset, preparing the data for modeling. \n"
   ]
  },
  {
   "cell_type": "code",
   "execution_count": null,
   "id": "264b416e-78cc-46d4-b070-f2b71bfa4cae",
   "metadata": {
    "tags": []
   },
   "outputs": [],
   "source": [
    "# Finalize the data\n",
    "install.packages(\"tidymodels\")\n",
    "final_atp_data <- filtered_selected_columns |>\n",
    "    # Remove the NA values\n",
    "    drop_na() |>\n",
    "    # convert the character winner_seed variable to the factor datatype so it can be classified\n",
    "    mutate(winner_seed = as_factor(winner_seed))\n",
    "# Show only the first three rows\n",
    "head(final_atp_data, n = 3)"
   ]
  },
  {
   "cell_type": "markdown",
   "id": "5545b406-6665-4f23-acc9-513eb4d714a6",
   "metadata": {},
   "source": [
    "This code is the final step in preparing the dataset for analysis. It removes rows with missing values and converts the ‘winner_seed’ variable to a factor, as ‘winner_seed’ is a categorical response variable. The resulting dataset (‘final_atp_data’) is then shown with the first three rows displayed.\n",
    "\n"
   ]
  },
  {
   "cell_type": "code",
   "execution_count": null,
   "id": "38315642-398a-4986-bba1-060fa81ccf96",
   "metadata": {
    "tags": []
   },
   "outputs": [],
   "source": [
    "# Summarize final data by reporting the number of observations in each winner seed\n",
    "install.packages(\"tidymodels\")\n",
    "number_of_obs <- group_by(final_atp_data, winner_seed) |>\n",
    "    summarize(count = n())\n",
    "number_of_obs"
   ]
  },
  {
   "cell_type": "markdown",
   "id": "e4ea4e9f-c576-4e93-8381-0b8db0b67ca4",
   "metadata": {},
   "source": [
    "Value explanations: After filtering for clay surface and predicting the top three winner seeds, a summary table displays the number of observations in each winner seed category. The final dataset comprises 272 players: 99 seeded 1, 97 seeded 2, and 76 seeded 3. Counts for winner seeds 1 and 2 are nearly equal, and though winner seed 3 has fewer people, the difference is relatively small and not statistically significant enough to draw a conclusion. \n"
   ]
  },
  {
   "cell_type": "code",
   "execution_count": null,
   "id": "b5fc43b4-a5a4-416b-b2cf-6354c1130a4b",
   "metadata": {
    "tags": []
   },
   "outputs": [],
   "source": [
    "# Summarize final data by reporting parameters of the two predictor\n",
    "\n",
    "# Parameters of the ace predictor\n",
    "install.packages(\"tidymodels\")\n",
    "ace_parameters <- final_atp_data |>\n",
    "    mutate(predictor = \"winner's number of aces\") |>\n",
    "    summarize(predictor = first(predictor),\n",
    "              minimum = min(w_ace),\n",
    "              maximum = max(w_ace),\n",
    "              mean = mean(w_ace),\n",
    "              median = median(w_ace))\n",
    "\n",
    "# Parameters of the svpt predictor\n",
    "svpt_parameters <- final_atp_data |>\n",
    "    mutate(predictor = \"winner's number of serve points\") |>\n",
    "    summarize(predictor = first(predictor),\n",
    "              minimum = min(w_svpt),\n",
    "              maximum = max(w_svpt),\n",
    "              mean = mean(w_svpt),\n",
    "              median = median(w_svpt))\n",
    "\n",
    "# Combine two sets of paramters into a single summary table\n",
    "combined_parameters <- bind_rows(ace_parameters, svpt_parameters)\n",
    "combined_parameters"
   ]
  },
  {
   "cell_type": "markdown",
   "id": "a7647649-0b11-4948-a079-e7db3f104633",
   "metadata": {},
   "source": [
    "\n",
    "Value explanations: This summary table presents statistics for two predictors: \"winner’s number of aces\" and \"winner’s number of serve points.\" The columns include predictor type and four parameters for each: minimum, maximum, mean, and median values. Analyzing these parameters, we can draw conclusions. Among the 272 people who have the top three seed numbers, their number of aces ranges from 0 to 25, suggesting that even if players don’t hit any aces, they still have the chance to become top three seed players. The mean number of winner’s aces is 4.529412. In statistics, the mean value represents the center of a data distribution. It indicates where most values are concentrated. In this case, the winner’s number of aces is mostly centered around 4 and 5. Moving to the median value, it is the middle value when the data is ordered from least to greatest and the median value of the winner’s aces is 4. Both the considerably lower mean value and median value compared with the maximum value can give us a sense that the number of aces won’t affect the seed number significantly, since a large proportion of the top seed players are scoring low numbers of aces. This might be a reason explaining why, in our final result, the accuracy of using the winner’s number of aces and the winner’s number of serve points to predict the winner’s seed number is very low. The winner’s number of serve points ranges from 10 to 173, with a mean of 71.88 and a median of 67. Given that the median value is smaller than the mean value, the distribution of the winner’s number of serve points data is right-skewed, implying most data are concentrated on the lower end, with a few high values pulling the mean to the right.\t\n"
   ]
  },
  {
   "cell_type": "code",
   "execution_count": null,
   "id": "e3499c69-7abe-48dd-9bd4-158594e3a119",
   "metadata": {
    "tags": []
   },
   "outputs": [],
   "source": [
    "# Create a scatter plot of winner's number of serve points versus number of aces,\n",
    "# Label the points with winner's seed number\n",
    "install.packages(\"tidymodels\")\n",
    "atp_plot <- final_atp_data |>  \n",
    "    ggplot(aes(x = w_ace, \n",
    "               y = w_svpt, \n",
    "               colour = winner_seed)) +\n",
    "    geom_point(alpha = 0.6) +\n",
    "    labs(x = \"Winner's number of aces\",\n",
    "         y = \"Winner's number of serve points\",\n",
    "         colour = \"Winner's seed number\") +\n",
    "    ggtitle(\"Predicting seed number of a tennis winner\") +\n",
    "    theme(text = element_text(size = 20))\n",
    "options(repr.plot.width = 10, repr.plot.height = 6)\n",
    "atp_plot"
   ]
  },
  {
   "cell_type": "markdown",
   "id": "05f42b3c-50d3-41e7-8bc5-56bb229ed6c9",
   "metadata": {},
   "source": [
    "This R code is creating a scatter plot using the ggplot2 package to visualize the relationship between the winner’s number of aces (w_ace) and the winner’s number of serve points (w_svpt). The points in the scatter plot are colored based on the winner’s seed number (winner_seed), and each point is labeled with the respective winner’s seed number.\n",
    "\t\t\t\t\t\n",
    "Upon breaking down the code and interpreting the resulting scatter plot: \t\t \t \t \t\t\t\t\t\n",
    "Explanation of the code:\n",
    "\t\t\t\t\t\n",
    "‘final_atp_data’ is the data frame (or tibble) containing information about tennis matches, and it is used as the data source for the plot.\n",
    "\t\t\t\t\t\n",
    "‘ggplot(aes(...))’: sets up the basic structure of the plot. It specifies the variables for the x-axis (w_ace), y-axis (w_svpt), and the color of points (winner_seed).\n",
    "\t\t\t\t\t\n",
    "‘geom_point(alpha = 0.6)’: adds points to the plot, and the alpha parameter controls the transparency of the points, making it easier to see overlapping points.\n",
    "\t\t\t\t\t\n",
    "‘labs(...)’: sets the labels for the x-axis, y-axis, and color legend.\n",
    " ‘ggtitle(...)’: sets the title of the plot.\n",
    " ‘theme(text = element_text(size = 20))’: adjusts the text size in the plot to make it more readable.\n",
    "\t\t\t\t\t\n",
    "The resulting scatter plot visualizes the relationship between the number of aces and the number of serve points for tennis winners. Each point on the plot represents a tennis match, and the color of the point corresponds to the winner’s seed number. The alpha parameter (transparency) is used to make overlapping points more distinguishable.\n",
    "\t\t\t\t\t\n",
    "The plot provides an overview of the distribution of points and allows for an initial assessment of any patterns or trends between the variables. \n"
   ]
  },
  {
   "cell_type": "code",
   "execution_count": null,
   "id": "aa6b80f5-37d6-4fc8-80dc-c99a22c889bf",
   "metadata": {
    "tags": []
   },
   "outputs": [],
   "source": [
    "# Set the seed\n",
    "set.seed(3456) \n",
    "\n",
    "# Create the 25/75 split of the training data into training and validation\n",
    "install.packages(\"tidymodels\")\n",
    "atp_split <- initial_split(final_atp_data, prop = 0.75, strata = winner_seed)\n",
    "atp_train <- training(atp_split)\n",
    "atp_test <- testing(atp_split)"
   ]
  },
  {
   "cell_type": "markdown",
   "id": "7095af43-199a-4ebb-b703-c06e4dc551d7",
   "metadata": {},
   "source": [
    "\n",
    "This code sets the seed for reproducibility and then splits the final ATP tennis dataset into training and testing sets using a 75/25 split, allowing for the evaluation of model performance on unseen data. The use of ‘strata’ ensures that the distribution of ‘winner_seed’ levels is maintained in both the training and testing sets. \t\t \t \t \t\t\n"
   ]
  },
  {
   "cell_type": "code",
   "execution_count": null,
   "id": "384b525f-6a48-4d2f-ad72-0eb39d9c5063",
   "metadata": {
    "tags": []
   },
   "outputs": [],
   "source": [
    "# Standardize the recipe\n",
    "install.packages(\"tidymodels\")\n",
    "atp_recipe <- recipe(winner_seed ~ w_ace + w_svpt, data = atp_train) |>\n",
    "  step_scale(all_predictors()) |>\n",
    "  step_center(all_predictors())"
   ]
  },
  {
   "cell_type": "markdown",
   "id": "8e600674-2465-463d-8e91-dc12c38ec416",
   "metadata": {},
   "source": [
    "This code is creating a recipe for modeling the ‘winner_seed’ variable based on the predictor variables ‘w_ace’ and ‘w_svpt’ in the ATP tennis training dataset (‘atp_train’). The recipe includes steps for scaling and centering the predictor variables. Scaling will help improve the performance and convergence of the model. \n"
   ]
  },
  {
   "cell_type": "code",
   "execution_count": null,
   "id": "d362f453-5ae4-40cc-a686-d722ee4efe89",
   "metadata": {
    "tags": []
   },
   "outputs": [],
   "source": [
    "# Create a model specification\n",
    "install.packages(\"tidymodels\")\n",
    "knn_spec <- nearest_neighbor(weight_func = \"rectangular\", \n",
    "                             neighbors = tune()) |>\n",
    "  set_engine(\"kknn\") |>\n",
    "  set_mode(\"classification\")"
   ]
  },
  {
   "cell_type": "markdown",
   "id": "8be168eb-c245-40aa-ab98-db9c32bbaff2",
   "metadata": {},
   "source": [
    "The code is creating a model specification for a k-nearest neighbors (kNN) classification model using the ‘kknn’ package. \n"
   ]
  },
  {
   "cell_type": "code",
   "execution_count": null,
   "id": "97e9b669-3129-4c5f-b4f8-a09bb6550514",
   "metadata": {
    "tags": []
   },
   "outputs": [],
   "source": [
    "# Perform cross-validation\n",
    "install.packages(\"tidymodels\")\n",
    "atp_vfold <- vfold_cv(atp_train, v = 5, strata = winner_seed)"
   ]
  },
  {
   "cell_type": "markdown",
   "id": "ba039814-37c1-4392-8f50-8745375fc41d",
   "metadata": {
    "tags": []
   },
   "source": [
    "Summary: The code utilizes the 'vfold_cv' function from the 'tidymodels' framework to create cross-validation folds for the ATP tennis training dataset ('atp_train'). Cross-validation involves partitioning the data into subsets, training the model on some folds, and evaluating it on others. This iterative process provides a more robust estimate of model performance by averaging performance metrics over the folds."
   ]
  },
  {
   "cell_type": "code",
   "execution_count": null,
   "id": "6f7f0225-adbd-40d7-8a95-94c73aed1132",
   "metadata": {
    "tags": []
   },
   "outputs": [],
   "source": [
    "# Select the number of neighbors\n",
    "install.packages(\"tidymodels\")\n",
    "k_vals <- tibble(neighbors = seq(from = 1, to = 30, by = 1))\n",
    "\n",
    "knn_results <- workflow() |>\n",
    "  add_recipe(atp_recipe) |>\n",
    "  add_model(knn_spec) |>\n",
    "  tune_grid(resamples = atp_vfold, grid = k_vals) |>\n",
    "  collect_metrics()\n",
    "\n",
    "accuracies <- knn_results |>\n",
    "  filter(.metric == \"accuracy\")\n",
    "\n",
    "accuracy_vs_k <- ggplot(accuracies, aes(x = neighbors, y = mean)) +\n",
    "  geom_point() +\n",
    "  geom_line() +\n",
    "  labs(x = \"Neighbors\", y = \"Accuracy Estimate\") + \n",
    "  theme(text = element_text(size = 12))\n",
    "accuracy_vs_k"
   ]
  },
  {
   "cell_type": "code",
   "execution_count": null,
   "id": "3bd39a14-433b-4cbe-bf5e-07064be2d346",
   "metadata": {
    "tags": []
   },
   "outputs": [],
   "source": [
    "# Select the number of neighbors to K = 7 due to its highest accuracy\n",
    "install.packages(\"tidymodels\")\n",
    "knn_spec <- nearest_neighbor(weight_func = \"rectangular\", neighbors = 7) |>\n",
    "  set_engine(\"kknn\") |>\n",
    "  set_mode(\"classification\")"
   ]
  },
  {
   "cell_type": "code",
   "execution_count": null,
   "id": "9207b5a2-f346-406b-a9d9-6ddc26b96000",
   "metadata": {
    "tags": []
   },
   "outputs": [],
   "source": [
    "# Fit the knn model\n",
    "install.packages(\"tidymodels\")\n",
    "knn_fit <- workflow() |>\n",
    "  add_recipe(atp_recipe) |>\n",
    "  add_model(knn_spec) |>\n",
    "  fit(data = atp_train)"
   ]
  },
  {
   "cell_type": "code",
   "execution_count": null,
   "id": "282a15ad-00f9-4117-977a-ffc23b515069",
   "metadata": {
    "tags": []
   },
   "outputs": [],
   "source": [
    "# Get predictions on the validation data\n",
    "install.packages(\"tidymodels\")\n",
    "atp_test_predictions <- predict(knn_fit, atp_test) |>\n",
    "  bind_cols(atp_test)"
   ]
  },
  {
   "cell_type": "code",
   "execution_count": null,
   "id": "3f2394c6-267a-40d2-8808-897e7fa27d54",
   "metadata": {
    "tags": []
   },
   "outputs": [],
   "source": [
    "# compute the accuracy\n",
    "install.packages(\"tidymodels\")\n",
    "atp_test_predictions |>\n",
    "  metrics(truth = winner_seed, estimate = .pred_class) |>\n",
    "  filter(.metric == \"accuracy\")"
   ]
  },
  {
   "cell_type": "code",
   "execution_count": null,
   "id": "8b57ff5b-772a-4c33-b70d-e02cc4c80117",
   "metadata": {
    "tags": []
   },
   "outputs": [],
   "source": [
    "# Create the confusion matrix for the predictor,\n",
    "# Show the table of predicted labels and correct labels\n",
    "install.packages(\"tidymodels\")\n",
    "confusion <- atp_test_predictions |>\n",
    "             conf_mat(truth = winner_seed, estimate = .pred_class)\n",
    "confusion"
   ]
  },
  {
   "cell_type": "markdown",
   "id": "b7ef79a9-c580-4e54-aaab-752809a38239",
   "metadata": {
    "tags": []
   },
   "source": [
    "Calculate Accuracy using the confusion matrix:\n",
    "\n",
    "Accuracy = (8+7+9)/(8+10+7+7+7+3+10+8+9) = 0.3478"
   ]
  },
  {
   "cell_type": "markdown",
   "id": "73677d98-b1ff-4df7-8ef0-dcd89cc38357",
   "metadata": {},
   "source": [
    "The code is creating a confusion matrix for a predictor’s performance on a test dataset. \n"
   ]
  },
  {
   "cell_type": "markdown",
   "id": "a634dc2f-2a6e-4ac2-bb8f-4063a39eef61",
   "metadata": {},
   "source": [
    "Description of the code: Upon breaking down the code and the resulting confusion matrix: ‘atp_test_predictions’ is the data frame (or tibble) containing the predictions made by the model on a test dataset.\n",
    "\t\t\t\t\t\n",
    "‘truth = winner_seed’ specifies the true labels in the test dataset, and ‘estimate = .pred_class’ specifies the predicted labels.\n",
    "\t\t\t\t\t\n",
    "A confusion matrix is a table that is often used to describe the performance of a classification model on a set of data for which the true values are known.\n",
    "\t\t\t\t\t\n",
    "The rows represent the predicted classes, and the columns represent the true classes. The value in the (i, j) cell represents the number of instances where the true class is i and the predicted class is j.\n",
    "\t\t\t\t\t\n",
    "For example: In the first row, first column (cell (1,1)), there are 8 instances where the true class is 1 and the predicted class is also 1. In the second row, third column (cell (2,3)), there are 3 instances where the true class is 3, but the model predicted class 2.\n",
    "\t\t\t\t\t\n",
    "This matrix offers a detailed view of the model's performance for each class. You can calculate various metrics, including accuracy, precision, and recall, from it. These metrics aid in evaluating both the overall model performance and its performance for individual classes.\n",
    "\t\t\t\t\t\n",
    "After assessing accuracy with the confusion matrix, we find it to be 0.3478 (~34%). The scatter plot reveals closely clustered points, indicating a lack of significant correlation between the two variables. Consequently, the accuracy appears relatively low.\t"
   ]
  },
  {
   "cell_type": "code",
   "execution_count": null,
   "id": "f8725bdc-cfa8-426b-b487-442a83eafe18",
   "metadata": {
    "tags": []
   },
   "outputs": [],
   "source": [
    "# Scatter plot of where background color indicates the decision of the classifier\n",
    "install.packages(\"tidymodels\")\n",
    "are_grid <- seq(min(final_atp_data$w_ace), \n",
    "                max(final_atp_data$w_ace), \n",
    "                length.out = 100)\n",
    "smo_grid <- seq(min(final_atp_data$w_svpt), \n",
    "                max(final_atp_data$w_svpt), \n",
    "                length.out = 100)\n",
    "asgrid <- as_tibble(expand.grid(w_ace = are_grid, \n",
    "                                w_svpt = smo_grid))\n",
    "\n",
    "# use the fit workflow to make predictions at the grid points\n",
    "knnPredGrid <- predict(knn_fit, asgrid)\n",
    "\n",
    "# bind the predictions as a new column with the grid points\n",
    "prediction_table <- bind_cols(knnPredGrid, asgrid) |> \n",
    "  rename(winner_seed = .pred_class)\n",
    "\n",
    "# plot:\n",
    "# 1. the colored scatter of the original data\n",
    "# 2. the faded colored scatter for the grid points\n",
    "atpclass_plot <-\n",
    "  ggplot() +\n",
    "  geom_point(data = final_atp_data, \n",
    "             mapping = aes(x = w_ace, \n",
    "                           y = w_svpt, \n",
    "                           color = winner_seed), \n",
    "             alpha = 0.75) +\n",
    "  geom_point(data = prediction_table, \n",
    "             mapping = aes(x = w_ace, \n",
    "                           y = w_svpt, \n",
    "                           color = winner_seed), \n",
    "             alpha = 0.02, \n",
    "             size = 5) +\n",
    "  labs(color = \"Diagnosis\", \n",
    "       x = \"Winner Ace\", \n",
    "       y = \"Winner Serve Pts.\") +\n",
    "    ggtitle(\"Classification Results\")+\n",
    "  scale_color_manual(values = c(\"orange2\", \"steelblue2\", \"green2\")) +\n",
    "  theme(text = element_text(size = 12))\n",
    "\n",
    "atpclass_plot"
   ]
  },
  {
   "cell_type": "markdown",
   "id": "796eecc2-b321-436f-ab2f-d965252fdc1f",
   "metadata": {},
   "source": [
    "OUTCOME:\t\t\t\t\t\n",
    "\n",
    "With our analysis, we've visualized the relationship between a tennis player's seed number, aces achieved by the winner, and serve points received on clay ground. We selected the optimal classifier neighbor number as K=7 using KNN classification, producing a graph showing the K-nearest neighbor with the highest prediction accuracy. Another graph displays the predicted and classified seed numbers of the data points. However, our predictor's accuracy is hindered by inherent traits in the data. According to tennis rules, players with similar skills are placed at opposite ends of seed numbers, ensuring top players don’t face each other early in tournaments. In the classification visualization, the same color (same class/seed number) is placed at generally opposite areas of the graph. Players with the lowest and highest winner aces are classified as the same seed type to compete against each other. Another data trait affecting our model's accuracy is the possibility of inaccurately assigned seed numbers or players performing better than their initial seed ranking. Overall, based on our data and game rules, we concluded that there's no linear relationship between w_ace, w_svpt, and winner_seed, but there is a fairly high correlation. The analysis verifies seed assignments and prediction methods to a certain extent. While generally accurate, our predictor's lower accuracy raises questions about the methods used to predict winner seed and their reflection of player skill. Comparing our data to surfaces other than clay and exploring if they affect player performance could offer additional insights. We hope these results stimulate further research into the accuracy of current seed prediction methods and their reflection of player skill in tournaments.\n"
   ]
  },
  {
   "cell_type": "markdown",
   "id": "9226d3e9-f216-4cdb-99e4-6679e1167f6d",
   "metadata": {
    "tags": []
   },
   "source": [
    "REFERENCES:\n",
    "\n",
    "Cooper J. (2019 Nov. 4) Seeding in Competitive Tennis Tournaments [Blog post] Retrieved from https://www.liveabout.com/definition-of-seeding-3207821\n",
    "David Whiteside & Machar Reid (2017) Spatial characteristics of professional tennis serves with implications for serving aces: A machine learning approach, Journal of Sports Sciences, 35:7, 648-654, DOI: 10.1080/02640414.2016.1183805\n",
    "\n",
    "JeffSackmann (2023) ATP Tennis Rankings, Results, and Stats, https://github.com/JeffSackmann/tennis_atp\n",
    "\n"
   ]
  }
 ],
 "metadata": {
  "kernelspec": {
   "display_name": "R",
   "language": "R",
   "name": "ir"
  },
  "language_info": {
   "codemirror_mode": "r",
   "file_extension": ".r",
   "mimetype": "text/x-r-source",
   "name": "R",
   "pygments_lexer": "r",
   "version": "4.2.2"
  }
 },
 "nbformat": 4,
 "nbformat_minor": 5
}
